{
  "nbformat": 4,
  "nbformat_minor": 0,
  "metadata": {
    "colab": {
      "name": "Swine barn locator.ipynb",
      "version": "0.3.2",
      "provenance": [],
      "collapsed_sections": [],
      "toc_visible": true,
      "include_colab_link": true
    },
    "kernelspec": {
      "name": "python3",
      "display_name": "Python 3"
    }
  },
  "cells": [
    {
      "cell_type": "markdown",
      "metadata": {
        "id": "view-in-github",
        "colab_type": "text"
      },
      "source": [
        "<a href=\"https://colab.research.google.com/github/TheAliAjami/The_Data_Incubator/blob/master/Swine_barn_locator.ipynb\" target=\"_parent\"><img src=\"https://colab.research.google.com/assets/colab-badge.svg\" alt=\"Open In Colab\"/></a>"
      ]
    },
    {
      "cell_type": "markdown",
      "metadata": {
        "id": "hGZxqS0cqcRX",
        "colab_type": "text"
      },
      "source": [
        "# Import libraries"
      ]
    },
    {
      "cell_type": "code",
      "metadata": {
        "id": "Ig8M9AYToJwT",
        "colab_type": "code",
        "colab": {
          "base_uri": "https://localhost:8080/",
          "height": 35
        },
        "outputId": "18168ec3-693b-4dc9-c566-d53de9bc0496"
      },
      "source": [
        "#import libraries\n",
        "import os\n",
        "import keras\n",
        "from keras.models import Sequential\n",
        "from keras.layers import Dense, Dropout, Flatten\n",
        "from keras.layers import Conv2D, MaxPooling2D\n",
        "from keras.utils import to_categorical\n",
        "from keras.preprocessing import image\n",
        "import numpy as np\n",
        "import pandas as pd\n",
        "import matplotlib.pyplot as plt\n",
        "from sklearn.model_selection import train_test_split\n",
        "from keras.utils import to_categorical"
      ],
      "execution_count": 1,
      "outputs": [
        {
          "output_type": "stream",
          "text": [
            "Using TensorFlow backend.\n"
          ],
          "name": "stderr"
        }
      ]
    },
    {
      "cell_type": "markdown",
      "metadata": {
        "id": "p2d0-O8IC5y3",
        "colab_type": "text"
      },
      "source": [
        "# Loading trian set and creat X and y for training and validation"
      ]
    },
    {
      "cell_type": "code",
      "metadata": {
        "id": "oMkC3l04ph6G",
        "colab_type": "code",
        "colab": {}
      },
      "source": [
        "%%capture\n",
        "!unzip train.zip"
      ],
      "execution_count": 0,
      "outputs": []
    },
    {
      "cell_type": "code",
      "metadata": {
        "id": "hzvfdfm1pngU",
        "colab_type": "code",
        "colab": {}
      },
      "source": [
        "train = pd.read_csv('train.csv')\n",
        "train_image = []\n",
        "for i in range(train.shape[0]):\n",
        "    img = image.load_img('train/'+train['id'][i], target_size=(256,256))\n",
        "    img = image.img_to_array(img)\n",
        "    img = img/255\n",
        "    train_image.append(img)\n",
        "X = np.array(train_image)"
      ],
      "execution_count": 0,
      "outputs": []
    },
    {
      "cell_type": "code",
      "metadata": {
        "id": "d9a5VImjuWCo",
        "colab_type": "code",
        "colab": {}
      },
      "source": [
        "y=train['label'].values\n",
        "y = to_categorical(y)"
      ],
      "execution_count": 0,
      "outputs": []
    },
    {
      "cell_type": "code",
      "metadata": {
        "id": "8s_Scbk7z4mX",
        "colab_type": "code",
        "colab": {}
      },
      "source": [
        "#validation: 20% and training: 80% of train set\n",
        "X_train, X_test, y_train, y_test = train_test_split(X, y, random_state=42, test_size=0.2)"
      ],
      "execution_count": 0,
      "outputs": []
    },
    {
      "cell_type": "markdown",
      "metadata": {
        "id": "1r_FI0bNEJ08",
        "colab_type": "text"
      },
      "source": [
        "# Creating a training a VGGnet model using kreas"
      ]
    },
    {
      "cell_type": "code",
      "metadata": {
        "id": "YKPY50Pgz8t_",
        "colab_type": "code",
        "colab": {
          "base_uri": "https://localhost:8080/",
          "height": 292
        },
        "outputId": "58b7dd5f-437b-4458-9c67-3c8687ec7486"
      },
      "source": [
        "model = Sequential()\n",
        "model.add(Conv2D(32, kernel_size=(3, 3),activation='relu',input_shape=(256,256,3)))\n",
        "model.add(MaxPooling2D(pool_size=(2, 2)))\n",
        "model.add(Conv2D(64, (3, 3), activation='relu'))\n",
        "model.add(MaxPooling2D(pool_size=(2, 2)))\n",
        "model.add(Conv2D(128, (3, 3), activation='relu'))\n",
        "model.add(MaxPooling2D(pool_size=(2, 2)))\n",
        "model.add(Conv2D(128, (3, 3), activation='relu'))\n",
        "model.add(MaxPooling2D(pool_size=(2, 2)))\n",
        "model.add(Flatten())\n",
        "model.add(Dropout(0.25))\n",
        "model.add(Dense(512, activation='relu'))\n",
        "model.add(Dense(2, activation='sigmoid'))"
      ],
      "execution_count": 6,
      "outputs": [
        {
          "output_type": "stream",
          "text": [
            "WARNING: Logging before flag parsing goes to stderr.\n",
            "W0729 14:14:38.304651 140580557084544 deprecation_wrapper.py:119] From /usr/local/lib/python3.6/dist-packages/keras/backend/tensorflow_backend.py:74: The name tf.get_default_graph is deprecated. Please use tf.compat.v1.get_default_graph instead.\n",
            "\n",
            "W0729 14:14:38.356505 140580557084544 deprecation_wrapper.py:119] From /usr/local/lib/python3.6/dist-packages/keras/backend/tensorflow_backend.py:517: The name tf.placeholder is deprecated. Please use tf.compat.v1.placeholder instead.\n",
            "\n",
            "W0729 14:14:38.364865 140580557084544 deprecation_wrapper.py:119] From /usr/local/lib/python3.6/dist-packages/keras/backend/tensorflow_backend.py:4138: The name tf.random_uniform is deprecated. Please use tf.random.uniform instead.\n",
            "\n",
            "W0729 14:14:38.412290 140580557084544 deprecation_wrapper.py:119] From /usr/local/lib/python3.6/dist-packages/keras/backend/tensorflow_backend.py:3976: The name tf.nn.max_pool is deprecated. Please use tf.nn.max_pool2d instead.\n",
            "\n",
            "W0729 14:14:38.471683 140580557084544 deprecation_wrapper.py:119] From /usr/local/lib/python3.6/dist-packages/keras/backend/tensorflow_backend.py:133: The name tf.placeholder_with_default is deprecated. Please use tf.compat.v1.placeholder_with_default instead.\n",
            "\n",
            "W0729 14:14:38.483808 140580557084544 deprecation.py:506] From /usr/local/lib/python3.6/dist-packages/keras/backend/tensorflow_backend.py:3445: calling dropout (from tensorflow.python.ops.nn_ops) with keep_prob is deprecated and will be removed in a future version.\n",
            "Instructions for updating:\n",
            "Please use `rate` instead of `keep_prob`. Rate should be set to `rate = 1 - keep_prob`.\n"
          ],
          "name": "stderr"
        }
      ]
    },
    {
      "cell_type": "code",
      "metadata": {
        "id": "Qh6qE3wW0-Zk",
        "colab_type": "code",
        "colab": {
          "base_uri": "https://localhost:8080/",
          "height": 110
        },
        "outputId": "7cb68b92-9513-4118-a446-629839cdde68"
      },
      "source": [
        "model.compile(loss='categorical_crossentropy',optimizer='Adam',metrics=['accuracy'])"
      ],
      "execution_count": 7,
      "outputs": [
        {
          "output_type": "stream",
          "text": [
            "W0729 14:14:42.595393 140580557084544 deprecation_wrapper.py:119] From /usr/local/lib/python3.6/dist-packages/keras/optimizers.py:790: The name tf.train.Optimizer is deprecated. Please use tf.compat.v1.train.Optimizer instead.\n",
            "\n",
            "W0729 14:14:42.639969 140580557084544 deprecation_wrapper.py:119] From /usr/local/lib/python3.6/dist-packages/keras/backend/tensorflow_backend.py:3295: The name tf.log is deprecated. Please use tf.math.log instead.\n",
            "\n"
          ],
          "name": "stderr"
        }
      ]
    },
    {
      "cell_type": "code",
      "metadata": {
        "id": "diVEuS371LKM",
        "colab_type": "code",
        "outputId": "c3d8093b-86da-4adb-d8fc-d661df95fc63",
        "colab": {
          "base_uri": "https://localhost:8080/",
          "height": 837
        }
      },
      "source": [
        "Model = model.fit(X_train, y_train, epochs=20, validation_data=(X_test, y_test))"
      ],
      "execution_count": 8,
      "outputs": [
        {
          "output_type": "stream",
          "text": [
            "W0729 14:14:45.760162 140580557084544 deprecation.py:323] From /usr/local/lib/python3.6/dist-packages/tensorflow/python/ops/math_grad.py:1250: add_dispatch_support.<locals>.wrapper (from tensorflow.python.ops.array_ops) is deprecated and will be removed in a future version.\n",
            "Instructions for updating:\n",
            "Use tf.where in 2.0, which has the same broadcast rule as np.where\n"
          ],
          "name": "stderr"
        },
        {
          "output_type": "stream",
          "text": [
            "Train on 188 samples, validate on 48 samples\n",
            "Epoch 1/20\n",
            "188/188 [==============================] - 31s 162ms/step - loss: 0.8581 - acc: 0.5372 - val_loss: 0.6987 - val_acc: 0.4792\n",
            "Epoch 2/20\n",
            "188/188 [==============================] - 28s 148ms/step - loss: 0.6880 - acc: 0.5053 - val_loss: 0.6851 - val_acc: 0.4792\n",
            "Epoch 3/20\n",
            "188/188 [==============================] - 28s 149ms/step - loss: 0.6827 - acc: 0.5106 - val_loss: 0.6711 - val_acc: 0.7500\n",
            "Epoch 4/20\n",
            "188/188 [==============================] - 28s 148ms/step - loss: 0.6669 - acc: 0.6596 - val_loss: 0.6285 - val_acc: 0.7083\n",
            "Epoch 5/20\n",
            "188/188 [==============================] - 28s 147ms/step - loss: 0.6675 - acc: 0.6809 - val_loss: 0.6027 - val_acc: 0.6458\n",
            "Epoch 6/20\n",
            "188/188 [==============================] - 28s 148ms/step - loss: 0.5977 - acc: 0.6862 - val_loss: 0.5948 - val_acc: 0.8333\n",
            "Epoch 7/20\n",
            "188/188 [==============================] - 28s 147ms/step - loss: 0.5372 - acc: 0.7606 - val_loss: 0.4164 - val_acc: 0.8125\n",
            "Epoch 8/20\n",
            "188/188 [==============================] - 28s 147ms/step - loss: 0.3286 - acc: 0.8617 - val_loss: 0.3213 - val_acc: 0.8542\n",
            "Epoch 9/20\n",
            "188/188 [==============================] - 27s 146ms/step - loss: 0.2376 - acc: 0.9202 - val_loss: 0.4105 - val_acc: 0.8542\n",
            "Epoch 10/20\n",
            "188/188 [==============================] - 27s 145ms/step - loss: 0.3023 - acc: 0.9043 - val_loss: 0.3339 - val_acc: 0.8958\n",
            "Epoch 11/20\n",
            "188/188 [==============================] - 28s 147ms/step - loss: 0.2404 - acc: 0.8989 - val_loss: 0.3634 - val_acc: 0.8750\n",
            "Epoch 12/20\n",
            "188/188 [==============================] - 28s 150ms/step - loss: 0.1707 - acc: 0.9255 - val_loss: 0.3051 - val_acc: 0.8958\n",
            "Epoch 13/20\n",
            "188/188 [==============================] - 29s 154ms/step - loss: 0.0538 - acc: 0.9840 - val_loss: 0.4069 - val_acc: 0.8542\n",
            "Epoch 14/20\n",
            "188/188 [==============================] - 29s 153ms/step - loss: 0.0432 - acc: 0.9787 - val_loss: 0.4361 - val_acc: 0.8958\n",
            "Epoch 15/20\n",
            "188/188 [==============================] - 29s 153ms/step - loss: 0.0210 - acc: 0.9840 - val_loss: 0.4136 - val_acc: 0.9583\n",
            "Epoch 16/20\n",
            "188/188 [==============================] - 29s 154ms/step - loss: 0.0261 - acc: 0.9947 - val_loss: 0.4524 - val_acc: 0.8750\n",
            "Epoch 17/20\n",
            "188/188 [==============================] - 29s 155ms/step - loss: 0.0209 - acc: 1.0000 - val_loss: 0.4489 - val_acc: 0.8958\n",
            "Epoch 18/20\n",
            "188/188 [==============================] - 29s 153ms/step - loss: 0.0044 - acc: 1.0000 - val_loss: 0.4589 - val_acc: 0.8750\n",
            "Epoch 19/20\n",
            "188/188 [==============================] - 29s 154ms/step - loss: 6.8814e-04 - acc: 1.0000 - val_loss: 0.5663 - val_acc: 0.8333\n",
            "Epoch 20/20\n",
            "188/188 [==============================] - 29s 154ms/step - loss: 5.9970e-04 - acc: 1.0000 - val_loss: 0.5222 - val_acc: 0.8542\n"
          ],
          "name": "stdout"
        }
      ]
    },
    {
      "cell_type": "markdown",
      "metadata": {
        "id": "sSzdLgD_FZ4W",
        "colab_type": "text"
      },
      "source": [
        "# Creating train and validation accurcy and lost charts"
      ]
    },
    {
      "cell_type": "code",
      "metadata": {
        "id": "PuyVq16UaYnl",
        "colab_type": "code",
        "outputId": "893e7879-2a6b-41fe-9642-02bc602033ff",
        "colab": {
          "base_uri": "https://localhost:8080/",
          "height": 545
        }
      },
      "source": [
        "acc = Model.history['acc']\n",
        "val_acc = Model.history['val_acc']\n",
        "loss = Model.history['loss']\n",
        "val_loss = Model.history['val_loss']\n",
        "\n",
        "epochs = range(1, len(acc) + 1)\n",
        "\n",
        "#Train and validation accuracy\n",
        "plt.plot(epochs, acc, 'b', label='Training accurarcy')\n",
        "plt.plot(epochs, val_acc, 'r', label='Validation accurarcy')\n",
        "plt.title('Training and Validation accurarcy')\n",
        "plt.legend()\n",
        "\n",
        "plt.figure()\n",
        "#Train and validation loss\n",
        "plt.plot(epochs, loss, 'b', label='Training loss')\n",
        "plt.plot(epochs, val_loss, 'r', label='Validation loss')\n",
        "plt.title('Training and Validation loss')\n",
        "plt.legend()\n",
        "\n",
        "plt.show()"
      ],
      "execution_count": 9,
      "outputs": [
        {
          "output_type": "display_data",
          "data": {
            "image/png": "[encoded data removed]",
            "text/plain": [
              "<Figure size 432x288 with 1 Axes>"
            ]
          },
          "metadata": {
            "tags": []
          }
        },
        {
          "output_type": "display_data",
          "data": {
            "image/png": "[encoded data removed]",
            "text/plain": [
              "<Figure size 432x288 with 1 Axes>"
            ]
          },
          "metadata": {
            "tags": []
          }
        }
      ]
    },
    {
      "cell_type": "markdown",
      "metadata": {
        "id": "8OGRaroFFjLc",
        "colab_type": "text"
      },
      "source": [
        "# Evaluating performance on test set"
      ]
    },
    {
      "cell_type": "code",
      "metadata": {
        "id": "9sPYMfdS1Yhj",
        "colab_type": "code",
        "colab": {}
      },
      "source": [
        "%%capture\n",
        "!unzip test.zip;"
      ],
      "execution_count": 0,
      "outputs": []
    },
    {
      "cell_type": "code",
      "metadata": {
        "id": "kRiAzVmF09tr",
        "colab_type": "code",
        "colab": {}
      },
      "source": [
        "test = pd.read_csv('test.csv')\n",
        "test_image = []\n",
        "for i in range(test.shape[0]):\n",
        "    img = image.load_img('test/'+test['id'][i], target_size=(256,256))\n",
        "    img = image.img_to_array(img)\n",
        "    img = img/255\n",
        "    test_image.append(img)\n",
        "test_image = np.array(test_image)\n",
        "prediction = model.predict_classes(test_image)"
      ],
      "execution_count": 0,
      "outputs": []
    },
    {
      "cell_type": "code",
      "metadata": {
        "id": "_r4DPetK1rZL",
        "colab_type": "code",
        "outputId": "35b6fd3d-a3e7-46f1-f4aa-736df621fd79",
        "colab": {
          "base_uri": "https://localhost:8080/",
          "height": 35
        }
      },
      "source": [
        "from sklearn.metrics import accuracy_score\n",
        "accuracy = accuracy_score(test['label'], prediction)\n",
        "print('Accuracy on test figures: %f' % accuracy)"
      ],
      "execution_count": 12,
      "outputs": [
        {
          "output_type": "stream",
          "text": [
            "Accuracy on test figures: 0.950000\n"
          ],
          "name": "stdout"
        }
      ]
    }
  ]
}